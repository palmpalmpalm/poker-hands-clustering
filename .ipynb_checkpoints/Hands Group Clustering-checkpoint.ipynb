{
 "cells": [
  {
   "cell_type": "code",
   "execution_count": 1,
   "id": "breeding-warning",
   "metadata": {},
   "outputs": [],
   "source": [
    "#module\n",
    "import pandas as pd \n",
    "import numpy as np\n",
    "import matplotlib.pyplot as plt\n",
    "from sklearn.preprocessing import StandardScaler\n",
    "from sklearn.compose import ColumnTransformer\n",
    "from sklearn.cluster import KMeans"
   ]
  },
  {
   "cell_type": "code",
   "execution_count": 2,
   "id": "injured-tongue",
   "metadata": {},
   "outputs": [],
   "source": [
    "def load_data(filename):\n",
    "    df = pd.read_csv(filename)\n",
    "    return df"
   ]
  },
  {
   "cell_type": "code",
   "execution_count": 3,
   "id": "rubber-surge",
   "metadata": {},
   "outputs": [],
   "source": [
    "def preprocess(data, columns):\n",
    "    new_data = data[columns]\n",
    "    ct = ColumnTransformer([('standardize', StandardScaler(), columns)], remainder='passthrough')\n",
    "    return ct.fit_transform(new_data)"
   ]
  },
  {
   "cell_type": "code",
   "execution_count": 4,
   "id": "accomplished-organic",
   "metadata": {},
   "outputs": [],
   "source": [
    "def clustering(data,data_preprocessed,n_groups):\n",
    "    kmeans = KMeans(n_clusters=n_groups,random_state=0)\n",
    "    cluster = kmeans.fit(data_preprocessed)\n",
    "    result = pd.DataFrame()\n",
    "    result['hands'] = data['hands']\n",
    "    result['group'] = pd.DataFrame(cluster.labels_)\n",
    "    return result"
   ]
  },
  {
   "cell_type": "code",
   "execution_count": 5,
   "id": "unusual-interval",
   "metadata": {},
   "outputs": [],
   "source": [
    "def get_group(group_no, result):\n",
    "    interested_group = []\n",
    "    for index,row in result.iterrows():\n",
    "        if row['group'] == 1:\n",
    "            interested_group.append(row['hands'])\n",
    "    return interested_group"
   ]
  },
  {
   "cell_type": "code",
   "execution_count": 6,
   "id": "arctic-track",
   "metadata": {},
   "outputs": [],
   "source": [
    "def visual_group(interested_group):\n",
    "    for hand in interested_group:\n",
    "        print(hand+':'+'1'+',',end='')\n",
    "    print('\\b')"
   ]
  },
  {
   "cell_type": "code",
   "execution_count": 7,
   "id": "killing-planet",
   "metadata": {},
   "outputs": [],
   "source": [
    "def get_group_equity(interested_group, data):\n",
    "    avg_equity = 0\n",
    "    for index,row in data.iterrows():\n",
    "        for hand in interested_group:\n",
    "            if (row['hands']==hand):\n",
    "                avg_equity += row['equity']\n",
    "    return avg_equity/len(interested_group)"
   ]
  },
  {
   "cell_type": "code",
   "execution_count": 8,
   "id": "protected-identification",
   "metadata": {},
   "outputs": [],
   "source": [
    "def get_group_ev(interested_group, data):\n",
    "    avg_ev = 0\n",
    "    for index,row in data.iterrows():\n",
    "        for hand in interested_group:\n",
    "            if (row['hands']==hand):\n",
    "                avg_ev += row['ev']\n",
    "    return avg_ev/len(interested_group)"
   ]
  },
  {
   "cell_type": "code",
   "execution_count": 9,
   "id": "governing-generic",
   "metadata": {},
   "outputs": [],
   "source": [
    "columns = ['equity','ev','f_bet200','f_bet100','f_bet50','f_bet25','f_check']"
   ]
  }
 ],
 "metadata": {
  "kernelspec": {
   "display_name": "Python 3",
   "language": "python",
   "name": "python3"
  },
  "language_info": {
   "codemirror_mode": {
    "name": "ipython",
    "version": 3
   },
   "file_extension": ".py",
   "mimetype": "text/x-python",
   "name": "python",
   "nbconvert_exporter": "python",
   "pygments_lexer": "ipython3",
   "version": "3.8.8"
  }
 },
 "nbformat": 4,
 "nbformat_minor": 5
}
