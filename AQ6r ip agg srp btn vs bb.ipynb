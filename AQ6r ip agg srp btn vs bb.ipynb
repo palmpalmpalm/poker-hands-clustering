{
 "cells": [
  {
   "cell_type": "code",
   "execution_count": 3,
   "id": "unique-wales",
   "metadata": {},
   "outputs": [],
   "source": [
    "#module\n",
    "import pandas as pd \n",
    "import numpy as np\n",
    "import matplotlib.pyplot as plt\n",
    "from sklearn.preprocessing import StandardScaler\n",
    "from sklearn.compose import ColumnTransformer\n",
    "from sklearn.cluster import KMeans"
   ]
  },
  {
   "cell_type": "code",
   "execution_count": 4,
   "id": "verified-bahamas",
   "metadata": {},
   "outputs": [],
   "source": [
    "def load_data(filename):\n",
    "    df = pd.read_csv(filename)\n",
    "    return df"
   ]
  },
  {
   "cell_type": "code",
   "execution_count": 20,
   "id": "optimum-tulsa",
   "metadata": {},
   "outputs": [],
   "source": [
    "def preprocess(data, columns):\n",
    "    new_data = data[columns]\n",
    "    ct = ColumnTransformer([('standardize', StandardScaler(), columns)], remainder='passthrough')\n",
    "    return ct.fit_transform(new_data)"
   ]
  },
  {
   "cell_type": "code",
   "execution_count": 21,
   "id": "spoken-anatomy",
   "metadata": {},
   "outputs": [],
   "source": [
    "def clustering(data,data_preprocessed,n_groups):\n",
    "    kmeans = KMeans(n_clusters=n_groups,random_state=0)\n",
    "    cluster = kmeans.fit(data_preprocessed)\n",
    "    result = pd.DataFrame()\n",
    "    result['hands'] = data['hands']\n",
    "    result['group'] = pd.DataFrame(cluster.labels_)\n",
    "    return result"
   ]
  },
  {
   "cell_type": "code",
   "execution_count": 42,
   "id": "limiting-intellectual",
   "metadata": {},
   "outputs": [],
   "source": [
    "def get_group(group_no, result):\n",
    "    interested_group = []\n",
    "    for index,row in result.iterrows():\n",
    "        if row['group'] == group_no:\n",
    "            interested_group.append(row['hands'])\n",
    "    return interested_group"
   ]
  },
  {
   "cell_type": "code",
   "execution_count": 25,
   "id": "empty-madrid",
   "metadata": {},
   "outputs": [],
   "source": [
    "def visual_group(interested_group):\n",
    "    for hand in interested_group:\n",
    "        print(hand+':'+'1'+',',end='')\n",
    "    print('\\b')"
   ]
  },
  {
   "cell_type": "code",
   "execution_count": 26,
   "id": "unusual-indonesian",
   "metadata": {},
   "outputs": [],
   "source": [
    "def get_group_equity(interested_group, data):\n",
    "    avg_equity = 0\n",
    "    for index,row in data.iterrows():\n",
    "        for hand in interested_group:\n",
    "            if (row['hands']==hand):\n",
    "                avg_equity += row['equity']\n",
    "    return avg_equity/len(interested_group)"
   ]
  },
  {
   "cell_type": "code",
   "execution_count": 27,
   "id": "devoted-april",
   "metadata": {},
   "outputs": [],
   "source": [
    "def get_group_ev(interested_group, data):\n",
    "    avg_ev = 0\n",
    "    for index,row in data.iterrows():\n",
    "        for hand in interested_group:\n",
    "            if (row['hands']==hand):\n",
    "                avg_ev += row['ev']\n",
    "    return avg_ev/len(interested_group)"
   ]
  },
  {
   "cell_type": "code",
   "execution_count": 36,
   "id": "breeding-warning",
   "metadata": {},
   "outputs": [],
   "source": [
    "columns = ['equity','ev','f_bet200','f_bet100','f_bet50','f_bet25','f_check']"
   ]
  },
  {
   "cell_type": "code",
   "execution_count": 37,
   "id": "polar-access",
   "metadata": {},
   "outputs": [],
   "source": [
    "n_groups = 4"
   ]
  },
  {
   "cell_type": "code",
   "execution_count": 38,
   "id": "reduced-selection",
   "metadata": {},
   "outputs": [],
   "source": [
    "data = load_data('AQ6r.csv')\n",
    "data_preprocessed = preprocess(data, columns)\n",
    "result = clustering(data,data_preprocessed,4)"
   ]
  },
  {
   "cell_type": "code",
   "execution_count": 44,
   "id": "gothic-assault",
   "metadata": {},
   "outputs": [
    {
     "name": "stdout",
     "output_type": "stream",
     "text": [
      "KcJc:1,KdJd:1,KsJs:1,KcTc:1,KdTd:1,KsTs:1,KsJh:1,KhJh:1,KhTh:1,JcTc:1,JdTd:1,JsTs:1,JhTh:1,Kc7c:1,Ks7s:1,Ks5s:1,Kc4c:1,Kd8c:1,Kd4d:1,Kd8s:1,Ks8c:1,Ks4s:1,Kc8d:1,Kc8s:1,Kc3c:1,Ks8d:1,Kd3d:1,Ks3s:1,Kc2c:1,Kd2d:1,Ks2s:1,Kh3h:1,Jc8c:1,Jd8d:1,Js8s:1,Kh2h:1,Jc7c:1,Jd7d:1,Js7s:1,Jc9d:1,Jc9s:1,Jd9c:1,Js9c:1,Jd9s:1,Jc9h:1,Jd9h:1,Jh9c:1,Jh9d:1,Js9h:1,Jh9s:1,Jh9h:1,Jc5c:1,Jh8h:1,Jd5d:1,Js5s:1,Jd4d:1,Js4s:1,Tc7c:1,Td7d:1,Ts7s:1,Td9c:1,Tc9d:1,Ts9c:1,Tc9s:1,Td9s:1,Ts9d:1,Tc9h:1,Td9h:1,Th9c:1,Ts9h:1,Th9d:1,Th9s:1,Th9h:1,Td8c:1,Ts8c:1,Tc8s:1,Td8s:1,Tc8d:1,Ts8d:1,Tc8h:1,Th8c:1,Td8h:1,Ts8h:1,Th8s:1,Th8d:1,Th8h:1,9c7c:1,9d7d:1,9s7s:1,Jh4h:1,Tc5c:1,Td5d:1,Ts5s:1,Ts4s:1,9d8c:1,9s8c:1,Th7h:1,9c8s:1,9d8s:1,9c8d:1,9s8d:1,9h8c:1,9c8h:1,9d8h:1,9s8h:1,9h8s:1,9h8d:1,9h8h:1,7c5c:1,7s5s:1,9c5c:1,8c5c:1,9d5d:1,9s5s:1,8s5s:1,8d5d:1,8c7s:1,8s7c:1,8c7d:1,8d7c:1,8d7s:1,8c7h:1,8h7c:1,8h7s:1,8h7h:1,9h7h:1,7s4s:1,7c4c:1,7d4d:1,7h5h:1,9h5h:1,5s3s:1,5d3d:1,7h4h:1,5h4h:1,5h3h:1\n",
      "29.601441176470594\n",
      "1.4470095588235283\n"
     ]
    }
   ],
   "source": [
    "group1 = get_group(0,result)\n",
    "visual_group(group1)\n",
    "print(get_group_equity(group1,data))\n",
    "print(get_group_ev(group1,data))"
   ]
  },
  {
   "cell_type": "code",
   "execution_count": 45,
   "id": "portuguese-telescope",
   "metadata": {},
   "outputs": [
    {
     "name": "stdout",
     "output_type": "stream",
     "text": [
      "6d6c:1,6c6h:1,6d6h:1,AsQs:1,AdQc:1,AsQc:1,AdQs:1,AhQc:1,AdQh:1,AhQs:1,AsQh:1,AhQh:1,Ad6c:1,As6d:1,Ah6d:1,Ad6h:1,As6h:1,Ah6h:1,AdKd:1,AsKs:1,AdKc:1,AdKs:1,AsKc:1,AsKd:1,AhKc:1,AhKs:1,AhKd:1,AdKh:1,Qc6c:1,AsKh:1,AhKh:1,AsJs:1,Qh6h:1,AdJc:1,AdJs:1,AsJc:1,AhJc:1,AsJd:1,AhJs:1,AhJd:1,AdJh:1,AsJh:1,AhJh:1,AdTs:1,AhTd:1,Ad8h:1,Jc6c:1,Jh6h:1,6c4c:1,6c5c:1,6d4d:1,6d5d:1,7s6c:1,7s6h:1,7c6h:1,7s6d:1,7c6d:1,7d6c:1,7h6c:1,7d6h:1,6h4h:1,6h5h:1,KdJc:1,KsJc:1,KcJd:1,KdJs:1,KdJh:1,KhJc:1,KcJh:1,KhJd:1,KhJs:1,KdTc:1,KdTs:1,KcTd:1,KcTs:1,KsTc:1,KsTd:1,KdTh:1,KcTh:1,KhTc:1,KhTd:1,KsTh:1,KhTs:1,JcTd:1,JcTs:1,JdTc:1,JdTs:1,JsTc:1,JsTd:1,JcTh:1,JhTc:1,JdTh:1,JhTd:1,JhTs:1,JsTh:1,Jc9c:1,Jd9d:1,Js9s:1,Td9d:1,Tc9c:1,Ts9s:1,Tc8c:1,Td8d:1,Ts8s:1,Jc4c:1,9c8c:1,9d8d:1,9s8s:1,8c7c:1,8s7s:1,8d7d:1,Tc4c:1,Td4d:1,5c4c:1,5s4s:1,5d4d:1,5c3c:1\n",
      "60.37577777777777\n",
      "4.723930769230772\n"
     ]
    }
   ],
   "source": [
    "group2 = get_group(1,result)\n",
    "visual_group(group2)\n",
    "print(get_group_equity(group2,data))\n",
    "print(get_group_ev(group2,data))"
   ]
  },
  {
   "cell_type": "code",
   "execution_count": null,
   "id": "different-devil",
   "metadata": {},
   "outputs": [],
   "source": []
  }
 ],
 "metadata": {
  "kernelspec": {
   "display_name": "Python 3",
   "language": "python",
   "name": "python3"
  },
  "language_info": {
   "codemirror_mode": {
    "name": "ipython",
    "version": 3
   },
   "file_extension": ".py",
   "mimetype": "text/x-python",
   "name": "python",
   "nbconvert_exporter": "python",
   "pygments_lexer": "ipython3",
   "version": "3.8.8"
  }
 },
 "nbformat": 4,
 "nbformat_minor": 5
}
